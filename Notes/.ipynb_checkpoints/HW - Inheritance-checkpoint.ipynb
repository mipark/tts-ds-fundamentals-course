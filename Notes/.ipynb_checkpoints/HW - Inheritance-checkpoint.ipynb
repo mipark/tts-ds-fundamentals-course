{
 "cells": [
  {
   "cell_type": "markdown",
   "id": "cfdeb9fc",
   "metadata": {},
   "source": [
    "# HW - Inheritance\n",
    "Min Lee"
   ]
  },
  {
   "cell_type": "code",
   "execution_count": null,
   "id": "90c8b9cb",
   "metadata": {},
   "outputs": [],
   "source": [
    "\"\"\"\n",
    "You are given two classes, Person and Student, where Person is the base class and Student is the derived class. Completed code for Person and a declaration for Student are provided for you in the editor. Observe that Student inherits all the properties of Person.\n",
    "\n",
    "Complete the Student class by writing the following:\n",
    "\n",
    "A Student class constructor, which has 4 parameters:\n",
    "\n",
    "A string, firstName\n",
    "A string, lastName\n",
    "An integer, id An integer array (or vector) of test scores, scores\n",
    "A char calculate() method that calculates a Student object's average and returns the grade character representative of their calculated average:\n",
    "\n",
    "A | 90-100\n",
    "B | 80-89\n",
    "C | 70-79\n",
    "D | 60-69\n",
    "F | <60\n",
    "\"\"\""
   ]
  },
  {
   "cell_type": "code",
   "execution_count": 59,
   "id": "a43b9959",
   "metadata": {},
   "outputs": [],
   "source": [
    "class Person:\n",
    "    fname = \"\"\n",
    "    lname = \"\"\n",
    "    def desc(self):\n",
    "        desc_person = \"%s %s is a person.\" % (self.fname, self.lname)\n",
    "        return desc_person\n",
    "\n",
    "class Student(Person):\n",
    "    def __init__(self, firstName, lastName, stuId, scores):\n",
    "        self.fname = firstName\n",
    "        self.lname = lastName\n",
    "        self.stuId = stuId\n",
    "        self.scores = scores\n",
    "        \n",
    "    def desc(self):\n",
    "        desc_person = \"%s %s is a student.\" % (self.fname, self.lname)\n",
    "        return desc_person\n",
    "    \n",
    "    def fullName(self):\n",
    "        name = \"%s %s\" % (self.fname, self.lname)\n",
    "        return name\n",
    "    \n",
    "    def enterNewGrade(self):\n",
    "        newGrade = int(input(\"Enter new grade: \"))\n",
    "        self.scores.append(newGrade)\n",
    "  \n",
    "    def calculate(self):\n",
    "        totalScore = 0\n",
    "        for i in self.scores:\n",
    "            totalScore += i\n",
    "        avgScore = totalScore/len(self.scores)\n",
    "        if(avgScore >= 90):\n",
    "            return 'A'\n",
    "        elif(avgScore < 90 and avgScore >=80):\n",
    "            return 'B'\n",
    "        elif(avgScore < 89 and avgScore >= 70):\n",
    "            return 'C'\n",
    "        elif(avgScore < 70 and avgScore >= 60):\n",
    "            return 'D'\n",
    "        else:\n",
    "            return 'F'\n",
    "        \n",
    "class Grades(Student):\n",
    "      def desc(self):\n",
    "           desc_person = \"%s %s has grades.\" % (self.fname, self.lname)\n",
    "           return desc_person"
   ]
  },
  {
   "cell_type": "code",
   "execution_count": 60,
   "id": "c8ec9bb0",
   "metadata": {},
   "outputs": [
    {
     "name": "stdout",
     "output_type": "stream",
     "text": [
      "Enter student's first name: fsdfd\n",
      "Enter student's last name: asdff\n",
      "Enter student's ID: 345\n",
      "Enter student's grades separated by a space: 77 88 99\n",
      "[77, 88, 99]\n"
     ]
    },
    {
     "data": {
      "text/plain": [
       "'B'"
      ]
     },
     "execution_count": 60,
     "metadata": {},
     "output_type": "execute_result"
    }
   ],
   "source": [
    "firstName = input(\"Enter student's first name: \")\n",
    "lastName = input(\"Enter student's last name: \")\n",
    "stuId = input(\"Enter student's ID: \")\n",
    "grades = input (\"Enter student's grades separated by a space: \")\n",
    "\n",
    "listGrades = list(grades.split(\" \"))\n",
    "counter = 0\n",
    "for i in listGrades:\n",
    "    listGrades[counter] = int(i)\n",
    "    counter += 1\n",
    "#print(listGrades)\n",
    "\n",
    "stu1 = Student(firstName, lastName, stuId, listGrades)\n",
    "\n",
    "stu1.desc()\n",
    "#stu1.enterGrade()\n",
    "stu1.calculate()"
   ]
  },
  {
   "cell_type": "code",
   "execution_count": null,
   "id": "fcd3f870",
   "metadata": {},
   "outputs": [],
   "source": []
  }
 ],
 "metadata": {
  "kernelspec": {
   "display_name": "Python 3 (ipykernel)",
   "language": "python",
   "name": "python3"
  },
  "language_info": {
   "codemirror_mode": {
    "name": "ipython",
    "version": 3
   },
   "file_extension": ".py",
   "mimetype": "text/x-python",
   "name": "python",
   "nbconvert_exporter": "python",
   "pygments_lexer": "ipython3",
   "version": "3.9.13"
  }
 },
 "nbformat": 4,
 "nbformat_minor": 5
}
