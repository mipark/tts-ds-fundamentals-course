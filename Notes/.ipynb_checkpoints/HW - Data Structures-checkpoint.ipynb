{
 "cells": [
  {
   "cell_type": "markdown",
   "id": "2a63d05e",
   "metadata": {},
   "source": [
    "# HW - Data Structures\n",
    "Min Lee"
   ]
  },
  {
   "cell_type": "code",
   "execution_count": 31,
   "id": "9da1dd83",
   "metadata": {},
   "outputs": [
    {
     "name": "stdout",
     "output_type": "stream",
     "text": [
      "(2.0, 1.0)\n",
      "(-1.0, -1.0)\n",
      "Error: a cannot be 0\n",
      "(0, 0)\n"
     ]
    }
   ],
   "source": [
    "\n",
    "#Exercise 1\n",
    "#In mathematics, the quadratic equation ax2+bx+c=0 can be solved with the formula x=−b±b2−4ac√2a.\n",
    "\n",
    "#Write a function solve_quadratic, that returns both solutions of a generic quadratic as a pair \n",
    "#(2-tuple) when the coefficients are given as parameters. It should work like this:\n",
    "\n",
    "#print(solve_quadratic(1,-3,2))\n",
    "#(2.0,1.0)\n",
    "#print(solve_quadratic(1,2,1))\n",
    "#(-1.0,-1.0)\n",
    "#You may want to use the math.sqrt function from the math module in your solution. Test that your function works \n",
    "#in the main function!\n",
    "import math\n",
    "\n",
    "def solve_quadratic(coef_a, coef_b, coef_c):\n",
    "    if(coef_a == 0):\n",
    "        print(\"Error: a cannot be 0\")\n",
    "        return (0,0)\n",
    "    \n",
    "    solPos = ((coef_b * -1) + math.sqrt(math.pow(coef_b,2)-(4 * coef_a * coef_c)))/(2*coef_a)\n",
    "    solNeg = ((coef_b * -1) - math.sqrt(math.pow(coef_b,2)-(4 * coef_a * coef_c)))/(2*coef_a)\n",
    "\n",
    "    return (solPos, solNeg);\n",
    "\n",
    "print(solve_quadratic(1,-3,2))\n",
    "print(solve_quadratic(1,2,1))"
   ]
  },
  {
   "cell_type": "code",
   "execution_count": 9,
   "id": "659d85a7",
   "metadata": {},
   "outputs": [
    {
     "name": "stdout",
     "output_type": "stream",
     "text": [
      "Enter a space-separated list of integers: 2 5 7 8 4 0 4 8\n",
      "(2, 5, 7, 8, 4, 0, 4, 8)\n",
      "8199801182433067365\n"
     ]
    }
   ],
   "source": [
    "#Exercise 2\n",
    "#Get a space-separated list of integers from the user, create a tuple of those integers. Then compute \n",
    "#and print the result of hash(tuple).\n",
    "\n",
    "#Documentation: hash():\n",
    "\n",
    "user_list = input(\"Enter a space-separated list of integers: \")\n",
    "my_tuple = tuple(map(int, user_list.split()))\n",
    "\n",
    "#print(my_tuple)\n",
    "\n",
    "print(hash(my_tuple))\n"
   ]
  },
  {
   "cell_type": "code",
   "execution_count": 52,
   "id": "1ae696b9",
   "metadata": {},
   "outputs": [
    {
     "name": "stdout",
     "output_type": "stream",
     "text": [
      "[6, 12]\n"
     ]
    }
   ],
   "source": [
    "#Exercise 3\n",
    "#Take the following two lists. Create a third list by picking a odd-index elements from \n",
    "#the first list and even-index elements from the second.\n",
    "\n",
    "listOne = [3, 6, 9, 12, 15, 18, 21]\n",
    "listTwo = [4, 8, 12, 16, 20, 24, 28]\n",
    "listThree = [listOne[1], listTwo[2]]\n",
    "\n",
    "print(listThree)\n"
   ]
  },
  {
   "cell_type": "code",
   "execution_count": 8,
   "id": "51d4df1b",
   "metadata": {},
   "outputs": [
    {
     "name": "stdout",
     "output_type": "stream",
     "text": [
      "List 1:  [8, 45, 11]\n",
      "List 2:  [12, 14, 23]\n",
      "List 3:  [89, 45, 78]\n"
     ]
    }
   ],
   "source": [
    "#Exercise 4\n",
    "#Take the following list. Slice it into three equal chunks and reverse each list.\n",
    "import math\n",
    "\n",
    "sampleList = [11, 45, 8, 23, 14, 12, 78, 45, 89]\n",
    "divisor = math.floor(len(sampleList)/3)\n",
    "\n",
    "rev_listOne = sampleList[0:divisor]\n",
    "rev_listTwo = sampleList[divisor:divisor*2]\n",
    "rev_listThree = sampleList[divisor*2:divisor*3]\n",
    "\n",
    "rev_listOne.reverse()\n",
    "rev_listTwo.reverse()\n",
    "rev_listThree.reverse()\n",
    "\n",
    "print(\"List 1: \", rev_listOne)\n",
    "print(\"List 2: \", rev_listTwo)\n",
    "print(\"List 3: \", rev_listThree)"
   ]
  },
  {
   "cell_type": "code",
   "execution_count": null,
   "id": "47a811be",
   "metadata": {},
   "outputs": [],
   "source": [
    "#Exercise 5\n",
    "#Iterate through a given list and check if a given element already exists in a dictionary as a key’s value. \n",
    "#If not, delete it from the list.\n",
    "\n",
    "rollNumber = [47, 64, 69, 37, 76, 83, 95, 97]\n",
    "sampleDict ={'Zach':47, 'Emma':69, 'Kelly':76, 'Jason':97}\n",
    "\n"
   ]
  }
 ],
 "metadata": {
  "kernelspec": {
   "display_name": "Python 3 (ipykernel)",
   "language": "python",
   "name": "python3"
  },
  "language_info": {
   "codemirror_mode": {
    "name": "ipython",
    "version": 3
   },
   "file_extension": ".py",
   "mimetype": "text/x-python",
   "name": "python",
   "nbconvert_exporter": "python",
   "pygments_lexer": "ipython3",
   "version": "3.9.13"
  }
 },
 "nbformat": 4,
 "nbformat_minor": 5
}
