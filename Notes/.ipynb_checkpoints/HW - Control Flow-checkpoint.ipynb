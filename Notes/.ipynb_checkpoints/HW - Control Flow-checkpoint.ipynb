{
 "cells": [
  {
   "cell_type": "markdown",
   "id": "1f351645",
   "metadata": {},
   "source": [
    "# HW - Control Flow\n",
    "Min Lee"
   ]
  },
  {
   "cell_type": "code",
   "execution_count": null,
   "id": "e88af691",
   "metadata": {},
   "outputs": [],
   "source": [
    "#Exercise 1\n",
    "#Guess a number between 1 to 9 given by the user\n",
    "\n"
   ]
  },
  {
   "cell_type": "code",
   "execution_count": null,
   "id": "6047596a",
   "metadata": {},
   "outputs": [],
   "source": [
    "#Exercise 2\n",
    "#Check the validity of password input by the user.\n",
    "\n",
    "#Validation:\n",
    "\n",
    "#At least 1 letter between [a-z] \n",
    "#1 letter between [A-Z]\n",
    "#At least 1 number between [0-9]\n",
    "#At least 1 character from [$#@]\n",
    "#Minimum length 6 characters\n",
    "#Maximum length 16 characters\n",
    "\n",
    "\n",
    "    #hasLower = hasUpper = hasNum = hasCharacter = false\n",
    "#hasLower = false\n",
    "print(\"Hello\")\n",
    "#pwd = input(\"Enter a password with the following: \\n 1 letter between [a-z] \\n 1 letter between [A-Z] \\n 1 number between [0-9] \\n 1 character from [$#@] \\n Minimum length 6 characters \\n Maximum length 16 characters\")\n",
    "\n",
    "    \n",
    "    #Minimum length 6 characters\n",
    "#    if(len(pwd) < 6):\n",
    " #       return false;\n",
    "    #Maximum length 16 characters\n",
    "#    if(len(pwd) >16):\n",
    "#        return false;\n",
    "    \n",
    " "
   ]
  },
  {
   "cell_type": "code",
   "execution_count": null,
   "id": "d3e751d6",
   "metadata": {},
   "outputs": [],
   "source": [
    "def validatePassword():\n",
    "    hasLower = hasUpper = hasNum = hasCharacter = false\n",
    "\n",
    "    pwd = input(\"Enter a password with the following: \\n 1 letter between [a-z] \\n 1 letter between [A-Z] \\n 1 number between [0-9] \\n 1 character from [$#@] \\n Minimum length 6 characters \\n Maximum length 16 characters\")\n",
    "\n",
    "    \n",
    "    #Minimum length 6 characters\n",
    "    if(len(pwd) < 6):\n",
    "        return false;\n",
    "    #Maximum length 16 characters\n",
    "    if(len(pwd) >16):\n",
    "        return false;\n",
    "    \n",
    "    print(\"Here\")\n",
    "    for i in pwd:\n",
    "        print(\"Here \", i)\n",
    "        #check for lower character\n",
    "        if(hasLower == false && i.islower() == true):\n",
    "            hasLower = true\n",
    "        #check for upper character\n",
    "        elif(hasUpper == false && i.isupper() == true):\n",
    "            hasUpper = true\n",
    "        #check for number\n",
    "        elif(hasNum == false && i.isnumeric() == true):\n",
    "            hasNum = true\n",
    "        #check for character $#@\n",
    "        elif(hasCharacter == false && (i.find('$') != -1 || i.find('#') != -1 || i.find('@') != -1)):\n",
    "            hasCharacter = true\n",
    "    \n",
    "    if(hasLower == true && hasUpper == true && hasNum == true && hasCharacter == true):\n",
    "        return true;\n",
    "    else:\n",
    "        return false;\n",
    "    \n",
    "#pwd = input(\"Enter a password with the following: \\n 1 letter between [a-z] \\n 1 letter between [A-Z] \\n 1 number between [0-9] \\n 1 character from [$#@] \\n Minimum length 6 characters \\n Maximum length 16 characters\")\n",
    "meetReq = validatePassword(pwd)\n",
    "\n",
    "if(meetReq == true):\n",
    "    print(\"Valid password\")\n",
    "else\n",
    "    print(\"Invalid password: password does not meet requirements\")"
   ]
  }
 ],
 "metadata": {
  "kernelspec": {
   "display_name": "Python 3 (ipykernel)",
   "language": "python",
   "name": "python3"
  },
  "language_info": {
   "codemirror_mode": {
    "name": "ipython",
    "version": 3
   },
   "file_extension": ".py",
   "mimetype": "text/x-python",
   "name": "python",
   "nbconvert_exporter": "python",
   "pygments_lexer": "ipython3",
   "version": "3.9.13"
  }
 },
 "nbformat": 4,
 "nbformat_minor": 5
}
