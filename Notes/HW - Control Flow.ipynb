{
 "cells": [
  {
   "cell_type": "markdown",
   "id": "005ae85b",
   "metadata": {},
   "source": [
    "# HW - Control Flow\n",
    "Min Lee"
   ]
  },
  {
   "cell_type": "code",
   "execution_count": null,
   "id": "d8a7f196",
   "metadata": {},
   "outputs": [],
   "source": [
    "#Exercise 1\n",
    "#Guess a number between 1 to 9 given by the user\n",
    "\n"
   ]
  },
  {
   "cell_type": "code",
   "execution_count": 13,
   "id": "df7d6e70",
   "metadata": {
    "scrolled": true
   },
   "outputs": [
    {
     "name": "stdout",
     "output_type": "stream",
     "text": [
      "Enter a password with the following: \n",
      " 1 letter between [a-z] \n",
      " 1 letter between [A-Z] \n",
      " 1 number between [0-9] \n",
      " 1 character from [$#@] \n",
      " Minimum length 6 characters \n",
      " Maximum length 16 characters: sdfIfsdnf,8#\n",
      "Valid password\n"
     ]
    }
   ],
   "source": [
    "def validatePassword(pwd):\n",
    "    hasLower = hasUpper = hasNum = hasCharacter = False\n",
    "    \n",
    "    #Minimum length 6 characters\n",
    "    if(len(pwd) < 6):\n",
    "        return False;\n",
    "    #Maximum length 16 characters\n",
    "    if(len(pwd) >16):\n",
    "        return False;\n",
    "    \n",
    "    for i in pwd:\n",
    "        #check for lower character\n",
    "        if(hasLower == False and i.islower() == True):\n",
    "            hasLower = True\n",
    "        #check for upper character\n",
    "        elif(hasUpper == False and i.isupper() == True):\n",
    "            hasUpper = True\n",
    "        #check for number\n",
    "        elif(hasNum == False and i.isnumeric() == True):\n",
    "            hasNum = True\n",
    "        #check for character $#@\n",
    "        elif(hasCharacter == False and (i.find('$') != -1 or i.find('#') != -1 or i.find('@') != -1)):\n",
    "            hasCharacter = True\n",
    "    \n",
    "    if(hasLower == True and hasUpper == True and hasNum == True and hasCharacter == True):\n",
    "        return True;\n",
    "    else:\n",
    "        return False;\n",
    "    \n",
    "pwd = input(\"Enter a password with the following: \\n 1 letter between [a-z] \\n 1 letter between [A-Z] \\n 1 number between [0-9] \\n 1 character from [$#@] \\n Minimum length 6 characters \\n Maximum length 16 characters: \")\n",
    "meetReq = validatePassword(pwd)\n",
    "\n",
    "if(meetReq == True):\n",
    "    print(\"Valid password\")\n",
    "else:\n",
    "    print(\"Invalid password: password does not meet requirements\")"
   ]
  },
  {
   "cell_type": "code",
   "execution_count": 14,
   "id": "b145be48",
   "metadata": {},
   "outputs": [
    {
     "name": "stdout",
     "output_type": "stream",
     "text": [
      "What is the age of person 1: 34\n",
      "What is the age of person 2: 56\n",
      "What is the age of person 3: 23\n"
     ]
    }
   ],
   "source": [
    "#Exercise 3\n",
    "#Get input of the age of 3 people by user and determine oldest and youngest among them\n",
    "\n",
    "per1 = input(\"What is the age of person 1: \")\n",
    "per2 = input(\"What is the age of person 2: \")\n",
    "per3 = input(\"What is the age of person 3: \")"
   ]
  },
  {
   "cell_type": "code",
   "execution_count": null,
   "id": "4cdf79d8",
   "metadata": {},
   "outputs": [],
   "source": []
  }
 ],
 "metadata": {
  "kernelspec": {
   "display_name": "Python 3 (ipykernel)",
   "language": "python",
   "name": "python3"
  },
  "language_info": {
   "codemirror_mode": {
    "name": "ipython",
    "version": 3
   },
   "file_extension": ".py",
   "mimetype": "text/x-python",
   "name": "python",
   "nbconvert_exporter": "python",
   "pygments_lexer": "ipython3",
   "version": "3.9.13"
  }
 },
 "nbformat": 4,
 "nbformat_minor": 5
}
