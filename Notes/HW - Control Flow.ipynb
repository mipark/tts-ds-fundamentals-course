{
 "cells": [
  {
   "cell_type": "markdown",
   "id": "005ae85b",
   "metadata": {},
   "source": [
    "# HW - Control Flow\n",
    "Min Lee"
   ]
  },
  {
   "cell_type": "code",
   "execution_count": 19,
   "id": "d8a7f196",
   "metadata": {},
   "outputs": [
    {
     "name": "stdout",
     "output_type": "stream",
     "text": [
      "Enter an integer between 1 to 9: 0\n",
      "Error: Outside of range\n"
     ]
    }
   ],
   "source": [
    "#Exercise 1\n",
    "#Guess a number between 1 to 9 given by the user\n",
    "\n",
    "import random\n",
    "found = False\n",
    "\n",
    "userIn = int(input(\"Enter an integer between 1 to 9: \"))\n",
    "if(userIn == 0 or userIn > 9):\n",
    "    print(\"Error: Outside of range\")\n",
    "    found = True\n",
    "\n",
    "while(found == False):\n",
    "    ranNum = random.randrange(1,10,1)\n",
    "    #print(ranNum)\n",
    "    if(userIn == ranNum):\n",
    "        found = True\n",
    "        print(\"Your number is\", ranNum)\n",
    "        "
   ]
  },
  {
   "cell_type": "code",
   "execution_count": 20,
   "id": "df7d6e70",
   "metadata": {
    "scrolled": true
   },
   "outputs": [
    {
     "name": "stdout",
     "output_type": "stream",
     "text": [
      "Enter a password with the following: \n",
      " 1 letter between [a-z] \n",
      " 1 letter between [A-Z] \n",
      " 1 number between [0-9] \n",
      " 1 character from [$#@] \n",
      " Minimum length 6 characters \n",
      " Maximum length 16 characters: hUhgjfd53#\n",
      "Valid password\n"
     ]
    }
   ],
   "source": [
    "def validatePassword(pwd):\n",
    "    hasLower = hasUpper = hasNum = hasCharacter = False\n",
    "    \n",
    "    #Minimum length 6 characters\n",
    "    if(len(pwd) < 6):\n",
    "        return False;\n",
    "    #Maximum length 16 characters\n",
    "    if(len(pwd) >16):\n",
    "        return False;\n",
    "    \n",
    "    for i in pwd:\n",
    "        #check for lower character\n",
    "        if(hasLower == False and i.islower() == True):\n",
    "            hasLower = True\n",
    "        #check for upper character\n",
    "        elif(hasUpper == False and i.isupper() == True):\n",
    "            hasUpper = True\n",
    "        #check for number\n",
    "        elif(hasNum == False and i.isnumeric() == True):\n",
    "            hasNum = True\n",
    "        #check for character $#@\n",
    "        elif(hasCharacter == False and (i.find('$') != -1 or i.find('#') != -1 or i.find('@') != -1)):\n",
    "            hasCharacter = True\n",
    "    \n",
    "    if(hasLower == True and hasUpper == True and hasNum == True and hasCharacter == True):\n",
    "        return True;\n",
    "    else:\n",
    "        return False;\n",
    "    \n",
    "pwd = input(\"Enter a password with the following: \\n 1 letter between [a-z] \\n 1 letter between [A-Z] \\n 1 number between [0-9] \\n 1 character from [$#@] \\n Minimum length 6 characters \\n Maximum length 16 characters: \")\n",
    "meetReq = validatePassword(pwd)\n",
    "\n",
    "if(meetReq == True):\n",
    "    print(\"Valid password\")\n",
    "else:\n",
    "    print(\"Invalid password: password does not meet requirements\")"
   ]
  },
  {
   "cell_type": "code",
   "execution_count": 2,
   "id": "b145be48",
   "metadata": {},
   "outputs": [
    {
     "name": "stdout",
     "output_type": "stream",
     "text": [
      "What is the age of person 1: 245\n",
      "What is the age of person 2: 542\n",
      "What is the age of person 3: 437\n",
      "The oldest person is  542\n",
      "The youngest person is  245\n"
     ]
    }
   ],
   "source": [
    "#Exercise 3\n",
    "#Get input of the age of 3 people by user and determine oldest and youngest among them\n",
    "\n",
    "per1 = input(\"What is the age of person 1: \")\n",
    "per2 = input(\"What is the age of person 2: \")\n",
    "per3 = input(\"What is the age of person 3: \")\n",
    "\n",
    "listPerson = [int(per1), int(per2), int(per3)]\n",
    "listPerson.sort()\n",
    "\n",
    "#print(listPerson)\n",
    "print(\"The oldest person is \", listPerson[len(listPerson)-1])\n",
    "print(\"The youngest person is \", listPerson[0])\n"
   ]
  },
  {
   "cell_type": "code",
   "execution_count": 21,
   "id": "4cdf79d8",
   "metadata": {},
   "outputs": [
    {
     "name": "stdout",
     "output_type": "stream",
     "text": [
      "Number of classes held: 0\n",
      "Number of classes attended: 2\n",
      "Must have at least 1 class\n",
      "Percentage of class attended: 0 %\n",
      "Does not meet the attendance requirement - cannot sit for the exam\n"
     ]
    }
   ],
   "source": [
    "#Exercise 4\n",
    "#A student will not be allowed to sit in exam if his/her attendance is less than 75%.\n",
    "\n",
    "#Take following input from user\n",
    "\n",
    "#Number of classes held\n",
    "#Number of classes attended.\n",
    "#And print\n",
    "#percentage of class attended\n",
    "#Is student is allowed to sit in exam or not?\n",
    "\n",
    "classesHeld = int(input(\"Number of classes held: \"))\n",
    "classesAttended = int(input(\"Number of classes attended: \"))\n",
    "\n",
    "if(classesHeld == 0):\n",
    "    print(\"Error: Must have held at least 1 class\")\n",
    "    percAttended = 0\n",
    "else:\n",
    "    percAttended = classesAttended/classesHeld * 100\n",
    "    \n",
    "print(\"Percentage of class attended:\", percAttended, \"%\")\n",
    "if(percAttended < 75):\n",
    "    print(\"Does not meet the attendance requirement - cannot sit for the exam\")\n",
    "else:\n",
    "    print(\"Meets attendance requirement - allowed to sit for the exam\")"
   ]
  },
  {
   "cell_type": "code",
   "execution_count": 8,
   "id": "3f2e11e1",
   "metadata": {},
   "outputs": [
    {
     "name": "stdout",
     "output_type": "stream",
     "text": [
      "Enter an integer: 4\n",
      "Not Weird\n"
     ]
    }
   ],
   "source": [
    "#Exercise 5\n",
    "#Get an integer N from the user and perform the following actions:\n",
    "#if N is odd, print \"weird\"\n",
    "#if N is even and in the inclusive range of 2 to 5, print \"Not Weird\"\n",
    "#if N is even and in the inclusive range of 6 to 20, print \"Weird\"\n",
    "#if N is even and greater than 20, print \"Not Weird\"\n",
    "\n",
    "userIn = int(input(\"Enter an integer: \"))\n",
    "\n",
    "if(userIn%2 == 1): #is odd\n",
    "    print(\"weird\")\n",
    "else: #is even\n",
    "    if(userIn >=2 and userIn <= 5): \n",
    "        print(\"Not Weird\")\n",
    "    elif(userIn >=6 and userIn <=20):\n",
    "        print(\"Weird\")\n",
    "    elif(userIn > 20):\n",
    "        print(\"Not Weird\")\n",
    "        "
   ]
  },
  {
   "cell_type": "code",
   "execution_count": null,
   "id": "b02e1c6c",
   "metadata": {},
   "outputs": [],
   "source": []
  },
  {
   "cell_type": "code",
   "execution_count": null,
   "id": "30ffaeed",
   "metadata": {},
   "outputs": [],
   "source": []
  }
 ],
 "metadata": {
  "kernelspec": {
   "display_name": "Python 3 (ipykernel)",
   "language": "python",
   "name": "python3"
  },
  "language_info": {
   "codemirror_mode": {
    "name": "ipython",
    "version": 3
   },
   "file_extension": ".py",
   "mimetype": "text/x-python",
   "name": "python",
   "nbconvert_exporter": "python",
   "pygments_lexer": "ipython3",
   "version": "3.9.13"
  }
 },
 "nbformat": 4,
 "nbformat_minor": 5
}
