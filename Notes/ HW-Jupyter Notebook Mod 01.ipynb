{
 "cells": [
  {
   "cell_type": "code",
   "execution_count": 11,
   "id": "64602c4b",
   "metadata": {},
   "outputs": [
    {
     "name": "stdout",
     "output_type": "stream",
     "text": [
      "Enter first name: johnny\n",
      "Enter last name: dash\n",
      "dash johnny\n"
     ]
    }
   ],
   "source": [
    "#1. Accept the user's first and last name and print them in reverse order with a space between them\n",
    "first_name = input(\"Enter first name: \")\n",
    "last_name = input (\"Enter last name: \")\n",
    "print(last_name + \" \" + first_name)"
   ]
  },
  {
   "cell_type": "code",
   "execution_count": 16,
   "id": "d971eefe",
   "metadata": {},
   "outputs": [
    {
     "name": "stdout",
     "output_type": "stream",
     "text": [
      "Enter an integer1\n",
      "123\n"
     ]
    }
   ],
   "source": [
    "#2. Accept an integer (n) input from the user and compute the value of n+nn+nnn. For example if n=4 then n + nn + nnn = 4 + 44 + 444 = 492\n",
    "val = input(\"Enter an integer\")\n",
    "print(int(val) + int(val+val) + int(val+val+val))"
   ]
  },
  {
   "cell_type": "code",
   "execution_count": 17,
   "id": "3f263644",
   "metadata": {},
   "outputs": [
    {
     "name": "stdout",
     "output_type": "stream",
     "text": [
      "What country are you from? france\n",
      "I have heard that france is a beautiful country.\n"
     ]
    }
   ],
   "source": [
    "#3. Ask the user \"What country are you from?\" then print the following statement: \"I have heard that [input] is a beautiful country!\"\n",
    "country = input(\"What country are you from? \")\n",
    "print(\"I have heard that \" + country + \" is a beautiful country.\")"
   ]
  },
  {
   "cell_type": "code",
   "execution_count": 19,
   "id": "5a9912bc",
   "metadata": {},
   "outputs": [],
   "source": [
    "#4. What is the output of the following Python code\n",
    "x = 10\n",
    "y = 50\n",
    "if (x ** 2 > 100 and y < 100):\n",
    "    print(x, y)\n",
    "#No output"
   ]
  },
  {
   "cell_type": "code",
   "execution_count": 44,
   "id": "62228380",
   "metadata": {},
   "outputs": [
    {
     "name": "stdout",
     "output_type": "stream",
     "text": [
      "140371982444160\n",
      "140371982444160\n",
      "140371982444160\n",
      "140371982444160\n",
      "140371982444160\n",
      "[10, 20, 30, 40]\n",
      "[10, 20, 30, 40]\n",
      "140371982444160\n",
      "140371983029952\n",
      "[10, 20, 30, 40]\n",
      "[20, 20]\n"
     ]
    }
   ],
   "source": [
    "#5. What is the output of the following addition (+) operator, and why does this code chunk execute this way?\n",
    "a = [10, 20]\n",
    "print(id(a))\n",
    "b = a\n",
    "print(id(a))\n",
    "print(id(b))\n",
    "b += [30, 40]\n",
    "print(id(a))\n",
    "print(id(b))\n",
    "print(a)\n",
    "print(b)\n",
    "b = [20,20]\n",
    "print(id(a))\n",
    "print(id(b))\n",
    "print(a)\n",
    "print(b)\n",
    "#output: [10, 20, 30, 40]\n",
    "#[10, 20, 30, 40]\n",
    "#a and b occupy the same memory address so they are the same. when you add [30,40], it updates the value that is occupied by the a and b's space"
   ]
  },
  {
   "cell_type": "code",
   "execution_count": 26,
   "id": "61bda2e3",
   "metadata": {},
   "outputs": [
    {
     "name": "stdout",
     "output_type": "stream",
     "text": [
      "2\n"
     ]
    }
   ],
   "source": [
    "#6. What is the output of the following code and what arithmetic operators is being used here? \n",
    "print(2%6)\n",
    "#output: 2\n",
    "#Returns the remainder"
   ]
  },
  {
   "cell_type": "code",
   "execution_count": 27,
   "id": "f5ab08a9",
   "metadata": {},
   "outputs": [
    {
     "name": "stdout",
     "output_type": "stream",
     "text": [
      "216\n"
     ]
    }
   ],
   "source": [
    "#7. What is the output of the following code and what arithmetic operators are used here? \n",
    "print(2 * 3 ** 3 * 4)\n",
    "#output: 216 \n",
    "#(3^3) x 2 x 4"
   ]
  },
  {
   "cell_type": "code",
   "execution_count": 47,
   "id": "91c24c4d",
   "metadata": {},
   "outputs": [],
   "source": [
    "#8. What is a text editor?\n",
    "#A type of computer program that edits plain text.\n",
    "\n",
    "#9. What is python?\n",
    "#High level, object oriented programming language\n",
    "\n",
    "#10. What is jupyter notebook, what type of python environment is it, and what alternatives are there to jupyter notebook?\n",
    "#Jupyter Notebook is a computing platform\n",
    "#dynamic, virtual environment\n",
    "#Visual Studio Code, nteract, Google Colaboratory, Jupyterlite"
   ]
  },
  {
   "cell_type": "code",
   "execution_count": null,
   "id": "18391a2f",
   "metadata": {},
   "outputs": [],
   "source": []
  }
 ],
 "metadata": {
  "kernelspec": {
   "display_name": "Python 3 (ipykernel)",
   "language": "python",
   "name": "python3"
  },
  "language_info": {
   "codemirror_mode": {
    "name": "ipython",
    "version": 3
   },
   "file_extension": ".py",
   "mimetype": "text/x-python",
   "name": "python",
   "nbconvert_exporter": "python",
   "pygments_lexer": "ipython3",
   "version": "3.9.13"
  }
 },
 "nbformat": 4,
 "nbformat_minor": 5
}
